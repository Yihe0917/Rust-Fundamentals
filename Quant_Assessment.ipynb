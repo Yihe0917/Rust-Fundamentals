{
  "nbformat": 4,
  "nbformat_minor": 0,
  "metadata": {
    "colab": {
      "provenance": [],
      "authorship_tag": "ABX9TyN0ov6jQdl0jU3YMw/iVilX",
      "include_colab_link": true
    },
    "kernelspec": {
      "name": "python3",
      "display_name": "Python 3"
    },
    "language_info": {
      "name": "python"
    }
  },
  "cells": [
    {
      "cell_type": "markdown",
      "metadata": {
        "id": "view-in-github",
        "colab_type": "text"
      },
      "source": [
        "<a href=\"https://colab.research.google.com/github/Yihe0917/Rust-Fundamentals/blob/main/Quant_Assessment.ipynb\" target=\"_parent\"><img src=\"https://colab.research.google.com/assets/colab-badge.svg\" alt=\"Open In Colab\"/></a>"
      ]
    },
    {
      "cell_type": "code",
      "source": [
        "pip install yfinance\n"
      ],
      "metadata": {
        "colab": {
          "base_uri": "https://localhost:8080/"
        },
        "id": "BW-dAcUm9Y-3",
        "outputId": "0e8a2eab-4a00-4610-f068-83f3b68858f8"
      },
      "execution_count": 3,
      "outputs": [
        {
          "output_type": "stream",
          "name": "stdout",
          "text": [
            "Requirement already satisfied: yfinance in /usr/local/lib/python3.11/dist-packages (0.2.54)\n",
            "Requirement already satisfied: pandas>=1.3.0 in /usr/local/lib/python3.11/dist-packages (from yfinance) (2.2.2)\n",
            "Requirement already satisfied: numpy>=1.16.5 in /usr/local/lib/python3.11/dist-packages (from yfinance) (1.26.4)\n",
            "Requirement already satisfied: requests>=2.31 in /usr/local/lib/python3.11/dist-packages (from yfinance) (2.32.3)\n",
            "Requirement already satisfied: multitasking>=0.0.7 in /usr/local/lib/python3.11/dist-packages (from yfinance) (0.0.11)\n",
            "Requirement already satisfied: platformdirs>=2.0.0 in /usr/local/lib/python3.11/dist-packages (from yfinance) (4.3.6)\n",
            "Requirement already satisfied: pytz>=2022.5 in /usr/local/lib/python3.11/dist-packages (from yfinance) (2025.1)\n",
            "Requirement already satisfied: frozendict>=2.3.4 in /usr/local/lib/python3.11/dist-packages (from yfinance) (2.4.6)\n",
            "Requirement already satisfied: peewee>=3.16.2 in /usr/local/lib/python3.11/dist-packages (from yfinance) (3.17.9)\n",
            "Requirement already satisfied: beautifulsoup4>=4.11.1 in /usr/local/lib/python3.11/dist-packages (from yfinance) (4.13.3)\n",
            "Requirement already satisfied: soupsieve>1.2 in /usr/local/lib/python3.11/dist-packages (from beautifulsoup4>=4.11.1->yfinance) (2.6)\n",
            "Requirement already satisfied: typing-extensions>=4.0.0 in /usr/local/lib/python3.11/dist-packages (from beautifulsoup4>=4.11.1->yfinance) (4.12.2)\n",
            "Requirement already satisfied: python-dateutil>=2.8.2 in /usr/local/lib/python3.11/dist-packages (from pandas>=1.3.0->yfinance) (2.8.2)\n",
            "Requirement already satisfied: tzdata>=2022.7 in /usr/local/lib/python3.11/dist-packages (from pandas>=1.3.0->yfinance) (2025.1)\n",
            "Requirement already satisfied: charset-normalizer<4,>=2 in /usr/local/lib/python3.11/dist-packages (from requests>=2.31->yfinance) (3.4.1)\n",
            "Requirement already satisfied: idna<4,>=2.5 in /usr/local/lib/python3.11/dist-packages (from requests>=2.31->yfinance) (3.10)\n",
            "Requirement already satisfied: urllib3<3,>=1.21.1 in /usr/local/lib/python3.11/dist-packages (from requests>=2.31->yfinance) (2.3.0)\n",
            "Requirement already satisfied: certifi>=2017.4.17 in /usr/local/lib/python3.11/dist-packages (from requests>=2.31->yfinance) (2025.1.31)\n",
            "Requirement already satisfied: six>=1.5 in /usr/local/lib/python3.11/dist-packages (from python-dateutil>=2.8.2->pandas>=1.3.0->yfinance) (1.17.0)\n"
          ]
        }
      ]
    },
    {
      "cell_type": "code",
      "execution_count": 4,
      "metadata": {
        "id": "3vee4__l85ye"
      },
      "outputs": [],
      "source": [
        "import yfinance as yf\n",
        "import pandas as pd\n",
        "import numpy as np\n"
      ]
    },
    {
      "cell_type": "markdown",
      "source": [
        "Tasks 1. Extract historical price data for the stocks MSFT, AAPL, NVDA, AMZN, GOOG, META, and TSLA\n",
        "using the Yahoo Finance API (yfinance). The data should span from 2013-01-01 to 2023-12-31"
      ],
      "metadata": {
        "id": "nQBCbsVi-pgv"
      }
    },
    {
      "cell_type": "code",
      "source": [
        "def get_stock_data(tickers, start_date, end_date):\n",
        "    data = yf.download(tickers, start=start_date, end=end_date)\n",
        "    stock_prices = data[\"Close\"]\n",
        "    #print(data[\"Close\"])  # Print the first few rows to check column names\n",
        "    return stock_prices\n",
        "\n",
        "tickers = ['MSFT', 'AAPL', 'NVDA', 'AMZN', 'GOOG', 'META', 'TSLA']\n",
        "start_date = '2013-01-01'\n",
        "end_date = '2023-12-31'\n",
        "\n",
        "stock_data = get_stock_data(tickers, start_date, end_date)\n",
        "print(stock_data)"
      ],
      "metadata": {
        "colab": {
          "base_uri": "https://localhost:8080/"
        },
        "id": "fMMMtJ3f8-jd",
        "outputId": "310bd891-8636-4eae-f45c-dc4ddd15f8a0"
      },
      "execution_count": 24,
      "outputs": [
        {
          "output_type": "stream",
          "name": "stderr",
          "text": [
            "[*********************100%***********************]  7 of 7 completed"
          ]
        },
        {
          "output_type": "stream",
          "name": "stdout",
          "text": [
            "Ticker            AAPL        AMZN        GOOG        META        MSFT  \\\n",
            "Date                                                                     \n",
            "2013-01-02   16.669020   12.865500   17.949236   27.893450   22.362123   \n",
            "2013-01-03   16.458609   12.924000   17.959660   27.664324   22.062557   \n",
            "2013-01-04   16.000172   12.957500   18.314550   28.650557   21.649639   \n",
            "2013-01-07   15.906051   13.423000   18.234638   29.308046   21.609169   \n",
            "2013-01-08   15.948851   13.319000   18.198652   28.949413   21.495811   \n",
            "...                ...         ...         ...         ...         ...   \n",
            "2023-12-22  192.444580  153.419998  142.209045  352.045197  371.055695   \n",
            "2023-12-26  191.897873  153.410004  142.308670  353.479675  371.134949   \n",
            "2023-12-27  191.997269  153.339996  140.933624  356.468323  370.550507   \n",
            "2023-12-28  192.424713  153.380005  140.774185  356.956482  371.749115   \n",
            "2023-12-29  191.380966  151.940002  140.425446  352.613068  372.502014   \n",
            "\n",
            "Ticker           NVDA        TSLA  \n",
            "Date                               \n",
            "2013-01-02   0.293515    2.357333  \n",
            "2013-01-03   0.293745    2.318000  \n",
            "2013-01-04   0.303437    2.293333  \n",
            "2013-01-07   0.294668    2.289333  \n",
            "2013-01-08   0.288207    2.245333  \n",
            "...               ...         ...  \n",
            "2023-12-22  48.816162  252.539993  \n",
            "2023-12-26  49.265030  256.609985  \n",
            "2023-12-27  49.402988  261.440002  \n",
            "2023-12-28  49.507965  253.179993  \n",
            "2023-12-29  49.507965  248.479996  \n",
            "\n",
            "[2768 rows x 7 columns]\n"
          ]
        },
        {
          "output_type": "stream",
          "name": "stderr",
          "text": [
            "\n"
          ]
        }
      ]
    },
    {
      "cell_type": "code",
      "source": [
        "print(stock_data.index)  # Check available dates\n"
      ],
      "metadata": {
        "colab": {
          "base_uri": "https://localhost:8080/"
        },
        "id": "kK1ME1N0CNn8",
        "outputId": "3838e279-fba0-423a-812b-4c23b27d3cf3"
      },
      "execution_count": 25,
      "outputs": [
        {
          "output_type": "stream",
          "name": "stdout",
          "text": [
            "DatetimeIndex(['2013-01-02', '2013-01-03', '2013-01-04', '2013-01-07',\n",
            "               '2013-01-08', '2013-01-09', '2013-01-10', '2013-01-11',\n",
            "               '2013-01-14', '2013-01-15',\n",
            "               ...\n",
            "               '2023-12-15', '2023-12-18', '2023-12-19', '2023-12-20',\n",
            "               '2023-12-21', '2023-12-22', '2023-12-26', '2023-12-27',\n",
            "               '2023-12-28', '2023-12-29'],\n",
            "              dtype='datetime64[ns]', name='Date', length=2768, freq=None)\n"
          ]
        }
      ]
    },
    {
      "cell_type": "markdown",
      "source": [
        "Task 2. Implement the Double Bollinger Band indicator to generate buy and sell signals based on the\n",
        "specified strategy"
      ],
      "metadata": {
        "id": "UwBsQ2-b-7L8"
      }
    },
    {
      "cell_type": "code",
      "source": [
        "def calculate_bollinger_bands(data, period, std_dev_mult):\n",
        "    rolling_mean = data.rolling(window=period).mean()\n",
        "    rolling_std = data.rolling(window=period).std()\n",
        "\n",
        "    upper_band = rolling_mean + (rolling_std * std_dev_mult)\n",
        "    lower_band = rolling_mean - (rolling_std * std_dev_mult)\n",
        "\n",
        "    return pd.DataFrame({'Upper': upper_band, 'Lower': lower_band, 'Moving Average': rolling_mean})\n",
        "\n",
        "period=20\n",
        "std_dev_mult=2\n",
        "\n",
        "# Example usage for MSFT:\n",
        "msft_data = stock_data['MSFT']\n",
        "bollinger_bands = calculate_bollinger_bands(msft_data, period, std_dev_mult)\n",
        "print(bollinger_bands.head())"
      ],
      "metadata": {
        "colab": {
          "base_uri": "https://localhost:8080/"
        },
        "id": "JS0V7HEh_BJg",
        "outputId": "ec681b7b-06f8-42b7-987e-876c0f47ff61"
      },
      "execution_count": 30,
      "outputs": [
        {
          "output_type": "stream",
          "name": "stdout",
          "text": [
            "            Upper  Lower  Moving Average\n",
            "Date                                    \n",
            "2013-01-02    NaN    NaN             NaN\n",
            "2013-01-03    NaN    NaN             NaN\n",
            "2013-01-04    NaN    NaN             NaN\n",
            "2013-01-07    NaN    NaN             NaN\n",
            "2013-01-08    NaN    NaN             NaN\n"
          ]
        }
      ]
    },
    {
      "cell_type": "code",
      "source": [
        "def generate_trading_signals(data, upper_band, lower_band):\n",
        "    signals = pd.Series(0, index=data.index)\n",
        "\n",
        "    # Buy signal: Price crosses above the upper band\n",
        "    signals[data > upper_band] = 1\n",
        "\n",
        "    # Sell signal: Price crosses below the lower band\n",
        "    signals[data < lower_band] = -1\n",
        "\n",
        "    # To avoid consecutive signals, we only keep the signal when it changes\n",
        "    signals = signals.replace(0, np.nan).ffill().fillna(0) #Forward fill\n",
        "    signals = signals[signals.shift() != signals]\n",
        "\n",
        "\n",
        "    return signals\n",
        "\n",
        "# Example Usage\n",
        "msft_signals = generate_trading_signals(msft_data, bollinger_bands['Upper'], bollinger_bands['Lower'])\n",
        "print(msft_signals.head())\n"
      ],
      "metadata": {
        "colab": {
          "base_uri": "https://localhost:8080/"
        },
        "id": "wfPERjaG_1_h",
        "outputId": "baee1882-3da6-47a9-e228-d6c25344273f"
      },
      "execution_count": 32,
      "outputs": [
        {
          "output_type": "stream",
          "name": "stdout",
          "text": [
            "Date\n",
            "2013-01-02    0.0\n",
            "2013-03-28    1.0\n",
            "2013-06-20   -1.0\n",
            "2013-07-11    1.0\n",
            "2013-07-19   -1.0\n",
            "dtype: float64\n"
          ]
        }
      ]
    },
    {
      "cell_type": "markdown",
      "source": [
        "Task 3. Design a backtesting loop to simulate trading with these signals. Assume an initial capital of\n",
        "$10,000. The minimum transaction size is set at 1 share per trade"
      ],
      "metadata": {
        "id": "qNFw0PR0HYwR"
      }
    },
    {
      "cell_type": "code",
      "source": [
        "def backtest(data, signals, initial_capital, min_trade_size):\n",
        "    positions = pd.Series(0, index=data.index)  # Number of shares held\n",
        "    cash = initial_capital  # Start with initial capital\n",
        "    portfolio_value = pd.Series(index=data.index, dtype='float64')  # Store portfolio value\n",
        "    trades = []  # Store trade history\n",
        "\n",
        "    for i, price in data.items():\n",
        "        signal = signals.get(i, 0)  # Get signal, default to 0 if no signal for that date\n",
        "        idx = data.index.get_loc(i)  # Get integer index of the timestamp\n",
        "\n",
        "        # Get previous position (handle first row case)\n",
        "        prev_position = positions.iloc[idx - 1] if idx > 0 else 0\n",
        "\n",
        "        if signal == 1:  # Buy\n",
        "            shares_to_buy = int(cash / price)  # Max shares we can buy\n",
        "            shares_to_buy = max(shares_to_buy, min_trade_size)  # Ensure at least min_trade_size\n",
        "            cost = shares_to_buy * price\n",
        "\n",
        "            if cash >= cost:\n",
        "                positions.loc[i] = prev_position + shares_to_buy  # Add shares\n",
        "                cash -= cost\n",
        "                trades.append({'date': i, 'action': 'buy', 'price': price, 'shares': shares_to_buy})\n",
        "            else:\n",
        "                positions.loc[i] = prev_position  # Not enough cash, hold\n",
        "\n",
        "        elif signal == -1:  # Sell\n",
        "            shares_to_sell = prev_position  # Sell all shares if we have any\n",
        "            if shares_to_sell > 0:\n",
        "                revenue = shares_to_sell * price\n",
        "                cash += revenue\n",
        "                positions.loc[i] = 0  # Sold all shares\n",
        "                trades.append({'date': i, 'action': 'sell', 'price': price, 'shares': shares_to_sell})\n",
        "            else:\n",
        "                positions.loc[i] = prev_position  # No shares to sell, hold\n",
        "\n",
        "        else:\n",
        "            positions.loc[i] = prev_position  # Hold\n",
        "\n",
        "        # Calculate portfolio value\n",
        "        portfolio_value.loc[i] = cash + (positions.loc[i] * price)\n",
        "\n",
        "    trades_df = pd.DataFrame(trades)\n",
        "    return portfolio_value, trades_df\n",
        "\n",
        "\n",
        "# Example Usage\n",
        "initial_capital = 10000\n",
        "min_trade_size = 1\n",
        "\n",
        "msft_portfolio_value, msft_trades = backtest(msft_data, msft_signals, initial_capital, min_trade_size)\n",
        "print(msft_portfolio_value.tail())\n",
        "print(msft_trades)"
      ],
      "metadata": {
        "colab": {
          "base_uri": "https://localhost:8080/"
        },
        "id": "69oR9MK8HZMg",
        "outputId": "a86e9f7c-2211-4860-8ccd-80d5d1887ee0"
      },
      "execution_count": 35,
      "outputs": [
        {
          "output_type": "stream",
          "name": "stdout",
          "text": [
            "Date\n",
            "2023-12-22    36808.194460\n",
            "2023-12-26    36816.040621\n",
            "2023-12-27    36758.180849\n",
            "2023-12-28    36876.843081\n",
            "2023-12-29    36951.380098\n",
            "dtype: float64\n",
            "         date action       price  shares\n",
            "0  2013-03-28    buy   23.355442     428\n",
            "1  2013-06-20   sell   27.530876     428\n",
            "2  2013-07-11    buy   29.339413     401\n",
            "3  2013-07-19   sell   25.812773     401\n",
            "4  2013-08-23    buy   28.767981     360\n",
            "5  2014-01-08   sell   29.828627     360\n",
            "6  2014-01-31    buy   31.563616     340\n",
            "7  2014-10-10   sell   37.496094     340\n",
            "8  2015-04-23    buy   37.405594     341\n",
            "9  2015-06-08   sell   39.724850     341\n",
            "10 2015-10-02    buy   39.846905     340\n",
            "11 2016-01-07   sell   45.925499     340\n",
            "12 2016-03-16    buy   48.188076     324\n",
            "13 2016-04-22   sell   45.909443     324\n",
            "14 2016-05-25    buy   46.534111     320\n",
            "15 2016-06-27   sell   43.239594     320\n",
            "16 2016-07-12    buy   47.507309     291\n",
            "17 2016-09-09   sell   50.498577     291\n",
            "18 2016-10-21    buy   53.598030     274\n",
            "19 2017-08-10   sell   65.351532     274\n",
            "20 2017-08-30    buy   68.091805     263\n",
            "21 2017-12-04   sell   74.971092     263\n",
            "22 2017-12-15    buy   80.306366     245\n",
            "23 2018-02-08   sell   78.604980     245\n",
            "24 2018-04-17    buy   89.248970     216\n",
            "25 2018-06-27   sell   91.007339     216\n",
            "26 2018-07-12    buy   97.211983     202\n",
            "27 2018-10-10   sell   99.431213     202\n",
            "28 2019-02-21    buy  103.357445     194\n",
            "29 2019-06-03   sell  113.629524     194\n",
            "30 2019-06-07    buy  124.590446     177\n",
            "31 2019-08-05   sell  125.358475     177\n",
            "32 2019-09-19    buy  134.204727     165\n",
            "33 2019-10-02   sell  128.097168     165\n",
            "34 2019-10-28    buy  137.172897     155\n",
            "35 2020-02-27   sell  151.406509     155\n",
            "36 2020-06-08    buy  180.796310     129\n",
            "37 2020-10-28   sell  195.011520     129\n",
            "38 2020-12-16    buy  211.535858     119\n",
            "39 2021-02-25   sell  221.411713     119\n",
            "40 2021-04-01    buy  234.329559     113\n",
            "41 2021-05-04   sell  239.589539     113\n",
            "42 2021-06-10    buy  249.301147     108\n",
            "43 2021-09-20   sell  285.763397     108\n",
            "44 2021-10-27    buy  313.796082      98\n",
            "45 2021-12-03   sell  314.214478      98\n",
            "46 2022-07-28    buy  270.066925     115\n",
            "47 2022-08-26   sell  262.493835     115\n",
            "48 2023-02-02    buy  259.806793     116\n",
            "49 2023-04-25   sell  271.108154     116\n",
            "50 2023-04-26    buy  290.745789     108\n",
            "51 2023-09-22   sell  313.391327     108\n",
            "52 2023-11-01    buy  342.119568      99\n"
          ]
        }
      ]
    },
    {
      "cell_type": "markdown",
      "source": [],
      "metadata": {
        "id": "ffZyrzKNHo18"
      }
    },
    {
      "cell_type": "code",
      "source": [
        "def calculate_performance_metrics(portfolio_values, risk_free_rate=0.02):\n",
        "\n",
        "    returns = portfolio_values.pct_change().dropna()\n",
        "    total_return = (portfolio_values[-1] - portfolio_values[0]) / portfolio_values[0]\n",
        "    annual_return = returns.mean() * 252  # Assuming 252 trading days in a year\n",
        "    annual_volatility = returns.std() * np.sqrt(252)\n",
        "    sharpe_ratio = (annual_return - risk_free_rate) / annual_volatility\n",
        "\n",
        "    # Calculate downside deviation for Sortino Ratio\n",
        "    downside_returns = returns[returns < 0]\n",
        "    downside_deviation = downside_returns.std() * np.sqrt(252)\n",
        "    sortino_ratio = (annual_return - risk_free_rate) / downside_deviation if downside_deviation > 0 else np.nan\n",
        "\n",
        "    # Calculate maximum drawdown\n",
        "    peak = portfolio_values.cummax()\n",
        "    drawdown = (portfolio_values - peak) / peak\n",
        "    max_drawdown = drawdown.min()\n",
        "\n",
        "    return {\n",
        "        'Total Return': total_return,\n",
        "        'Annual Return': annual_return,\n",
        "        'Annual Volatility': annual_volatility,\n",
        "        'Sharpe Ratio': sharpe_ratio,\n",
        "        'Sortino Ratio': sortino_ratio,\n",
        "        'Maximum Drawdown': max_drawdown\n",
        "    }\n",
        "\n",
        "risk_free_rate=0.02\n",
        "\n",
        "# Example Usage\n",
        "msft_metrics = calculate_performance_metrics(msft_portfolio_value,risk_free_rate)\n",
        "print(msft_metrics)\n"
      ],
      "metadata": {
        "colab": {
          "base_uri": "https://localhost:8080/"
        },
        "id": "Gu3nx4LqHn4o",
        "outputId": "69e43983-033b-42eb-909a-2697d2b0438d"
      },
      "execution_count": 36,
      "outputs": [
        {
          "output_type": "stream",
          "name": "stdout",
          "text": [
            "{'Total Return': 2.6951380098342894, 'Annual Return': 0.1335420758265792, 'Annual Volatility': 0.17011003399723273, 'Sharpe Ratio': 0.6674625426765022, 'Sortino Ratio': 0.6842031797182992, 'Maximum Drawdown': -0.2592063256470247}\n"
          ]
        },
        {
          "output_type": "stream",
          "name": "stderr",
          "text": [
            "<ipython-input-36-a9ef3b3ab676>:4: FutureWarning: Series.__getitem__ treating keys as positions is deprecated. In a future version, integer keys will always be treated as labels (consistent with DataFrame behavior). To access a value by position, use `ser.iloc[pos]`\n",
            "  total_return = (portfolio_values[-1] - portfolio_values[0]) / portfolio_values[0]\n"
          ]
        }
      ]
    },
    {
      "cell_type": "code",
      "source": [
        "import numpy as np\n",
        "import pandas as pd\n",
        "\n",
        "def calculate_performance_metrics(portfolio_values, risk_free_rate):\n",
        "    \"\"\"\n",
        "    Calculates key performance metrics for a trading strategy.\n",
        "\n",
        "    Args:\n",
        "        portfolio_values (pd.Series): Time series of portfolio values.\n",
        "        risk_free_rate (float): Annual risk-free rate (default 2%).\n",
        "\n",
        "    Returns:\n",
        "        dict: Performance metrics (total return, annual return, volatility, Sharpe ratio, etc.).\n",
        "    \"\"\"\n",
        "\n",
        "    returns = portfolio_values.pct_change().dropna()  # Daily returns\n",
        "\n",
        "    # Fix index issues by using .iloc[]\n",
        "    initial_value = portfolio_values.iloc[0]\n",
        "    final_value = portfolio_values.iloc[-1]\n",
        "\n",
        "    # 1. **Total Return**\n",
        "    total_return = (final_value - initial_value) / initial_value\n",
        "\n",
        "    # 2. **Annualized Return (CAGR)**\n",
        "    num_days = len(portfolio_values)  # Total days in dataset\n",
        "    annualized_return = (final_value / initial_value) ** (252 / num_days) - 1\n",
        "\n",
        "    # 3. **Annualized Volatility**\n",
        "    annualized_volatility = returns.std() * np.sqrt(252)\n",
        "\n",
        "    # 4. **Sharpe Ratio**\n",
        "    excess_returns = returns - (risk_free_rate / 252)  # Adjust daily risk-free rate\n",
        "    if annualized_volatility != 0:\n",
        "        sharpe_ratio = excess_returns.mean() / annualized_volatility\n",
        "    else:\n",
        "        sharpe_ratio = 0  # Avoid division by zero\n",
        "\n",
        "    # 5. **Sortino Ratio** (Uses downside deviation instead of total volatility)\n",
        "    downside_returns = returns[returns < 0]  # Only negative returns\n",
        "    downside_volatility = downside_returns.std() * np.sqrt(252)\n",
        "    sortino_ratio = excess_returns.mean() / downside_volatility if downside_volatility != 0 else 0\n",
        "\n",
        "    # 6. **Maximum Drawdown (MDD)**\n",
        "    rolling_max = portfolio_values.cummax()  # Peak portfolio value at each point\n",
        "    drawdown = (portfolio_values - rolling_max) / rolling_max  # % drop from peak\n",
        "    max_drawdown = drawdown.min()  # Worst drawdown\n",
        "\n",
        "    # 7. **Calmar Ratio** (Annual return / Maximum Drawdown)\n",
        "    calmar_ratio = annualized_return / abs(max_drawdown) if max_drawdown != 0 else 0\n",
        "\n",
        "    # Store metrics in dictionary\n",
        "    metrics = {\n",
        "        \"total_return\": total_return,\n",
        "        \"annualized_return\": annualized_return,\n",
        "        \"annualized_volatility\": annualized_volatility,\n",
        "        \"sharpe_ratio\": sharpe_ratio,\n",
        "        \"sortino_ratio\": sortino_ratio,\n",
        "        \"max_drawdown\": max_drawdown,\n",
        "        \"calmar_ratio\": calmar_ratio\n",
        "    }\n",
        "\n",
        "    return metrics\n",
        "\n",
        "risk_free_rate = 0.02\n",
        "# Example Usage\n",
        "msft_metrics = calculate_performance_metrics(msft_portfolio_value,risk_free_rate)\n",
        "print(msft_metrics)\n"
      ],
      "metadata": {
        "colab": {
          "base_uri": "https://localhost:8080/"
        },
        "id": "tQcydvAjN-Hd",
        "outputId": "becfef9e-2841-4851-acde-31dc871fae74"
      },
      "execution_count": 44,
      "outputs": [
        {
          "output_type": "stream",
          "name": "stdout",
          "text": [
            "{'total_return': 2.6951380098342894, 'annualized_return': 0.12636036039696852, 'annualized_volatility': 0.17011003399723273, 'sharpe_ratio': 0.002648660883636913, 'sortino_ratio': 0.002715091983009123, 'max_drawdown': -0.2592063256470247, 'calmar_ratio': 0.4874894934818846}\n"
          ]
        }
      ]
    },
    {
      "cell_type": "code",
      "source": [
        "all_metrics = {}\n",
        "all_portfolios = {}\n",
        "all_trades = {}\n",
        "\n",
        "period=20\n",
        "std_dev_mult=2\n",
        "initial_capital = 10000\n",
        "min_trade_size = 1\n",
        "risk_free_rate=0.02\n",
        "\n",
        "for ticker in tickers:\n",
        "    stock_data = get_stock_data([ticker], start_date, end_date)  # Fetch data for single ticker\n",
        "    data = stock_data[ticker]\n",
        "    bollinger_bands = calculate_bollinger_bands(data, period, std_dev_mult)\n",
        "    signals = generate_trading_signals(data, bollinger_bands['Upper'], bollinger_bands['Lower'])\n",
        "    portfolio_value, trades = backtest(data, signals,initial_capital, min_trade_size)\n",
        "    metrics = calculate_performance_metrics(portfolio_value,risk_free_rate)\n",
        "\n",
        "    all_metrics[ticker] = metrics\n",
        "    all_portfolios[ticker] = portfolio_value\n",
        "    all_trades[ticker] = trades\n",
        "\n",
        "print(\"All Metrics:\")\n",
        "print(all_metrics)\n"
      ],
      "metadata": {
        "colab": {
          "base_uri": "https://localhost:8080/"
        },
        "id": "psT1CWxEMYmO",
        "outputId": "83a41d50-9096-4924-affb-9cc2fe086cdf"
      },
      "execution_count": 45,
      "outputs": [
        {
          "output_type": "stream",
          "name": "stderr",
          "text": [
            "[*********************100%***********************]  1 of 1 completed\n",
            "[*********************100%***********************]  1 of 1 completed\n",
            "[*********************100%***********************]  1 of 1 completed\n",
            "[*********************100%***********************]  1 of 1 completed\n",
            "[*********************100%***********************]  1 of 1 completed\n",
            "[*********************100%***********************]  1 of 1 completed\n",
            "[*********************100%***********************]  1 of 1 completed\n"
          ]
        },
        {
          "output_type": "stream",
          "name": "stdout",
          "text": [
            "All Metrics:\n",
            "{'MSFT': {'total_return': 2.6951380098342894, 'annualized_return': 0.12636036039696852, 'annualized_volatility': 0.17011003399723273, 'sharpe_ratio': 0.002648660883636913, 'sortino_ratio': 0.002715091983009123, 'max_drawdown': -0.2592063256470247, 'calmar_ratio': 0.4874894934818846}, 'AAPL': {'total_return': 3.9638798824310304, 'annualized_return': 0.15703871166776118, 'annualized_volatility': 0.1905314561528328, 'sharpe_ratio': 0.0030003825735348314, 'sortino_ratio': 0.0033507404491196924, 'max_drawdown': -0.3111397998190479, 'calmar_ratio': 0.5047207453340635}, 'NVDA': {'total_return': 11.629439273744822, 'annualized_return': 0.2597098201873578, 'annualized_volatility': 0.31954096245854013, 'sharpe_ratio': 0.003240462708325947, 'sortino_ratio': 0.0038643861366171673, 'max_drawdown': -0.5070490499730048, 'calmar_ratio': 0.5121986131345373}, 'AMZN': {'total_return': 2.8508629219055175, 'annualized_return': 0.1306012896390134, 'annualized_volatility': 0.22371291767743276, 'sharpe_ratio': 0.002265703072241939, 'sortino_ratio': 0.0025576222459836686, 'max_drawdown': -0.3660914803654525, 'calmar_ratio': 0.35674495759540775}, 'GOOG': {'total_return': 0.9401199953079223, 'annualized_return': 0.062194499392834945, 'annualized_volatility': 0.18656996394707212, 'sharpe_ratio': 0.0012271035270900895, 'sortino_ratio': 0.0013347312487137556, 'max_drawdown': -0.3738236354721159, 'calmar_ratio': 0.16637390868634397}, 'META': {'total_return': 6.235076746177674, 'annualized_return': 0.19741336461913872, 'annualized_volatility': 0.2600200527931355, 'sharpe_ratio': 0.0029486626532267512, 'sortino_ratio': 0.0034279823608327005, 'max_drawdown': -0.25595049226151106, 'calmar_ratio': 0.7712951160001541}, 'TSLA': {'total_return': 23.57763164548874, 'annualized_return': 0.33842921402652504, 'annualized_volatility': 0.42332907796796715, 'sharpe_ratio': 0.003381340561628487, 'sortino_ratio': 0.0037727775947545387, 'max_drawdown': -0.666024486032761, 'calmar_ratio': 0.5081332910782473}}\n"
          ]
        }
      ]
    },
    {
      "cell_type": "code",
      "source": [
        "import pandas as pd\n",
        "\n",
        "# Parameters\n",
        "periods_to_test = range(10, 51, 5)  # Test periods from 10 to 50 in steps of 5\n",
        "std_dev_mult = 2\n",
        "initial_capital = 10000\n",
        "min_trade_size = 1\n",
        "risk_free_rate = 0.02\n",
        "\n",
        "best_params = {}  # Store best period per stock\n",
        "best_metrics = {}  # Store best performance per stock\n",
        "best_portfolios = {}  # Store best portfolio per stock\n",
        "best_trades = {}  # Store best trade history per stock\n",
        "\n",
        "for ticker in tickers:\n",
        "    stock_data = get_stock_data([ticker], start_date, end_date)  # Fetch data for single ticker\n",
        "    data = stock_data[ticker]\n",
        "\n",
        "    best_sharpe = float('-inf')  # Initialize worst Sharpe Ratio\n",
        "\n",
        "    for period in periods_to_test:\n",
        "        # Calculate Bollinger Bands and generate trading signals\n",
        "        bollinger_bands = calculate_bollinger_bands(data, period, std_dev_mult)\n",
        "        signals = generate_trading_signals(data, bollinger_bands['Upper'], bollinger_bands['Lower'])\n",
        "\n",
        "        # Run backtest\n",
        "        portfolio_value, trades = backtest(data, signals, initial_capital, min_trade_size)\n",
        "\n",
        "        # Evaluate performance\n",
        "        metrics = calculate_performance_metrics(portfolio_value, risk_free_rate)\n",
        "\n",
        "        # Select best-performing period (e.g., highest Sharpe Ratio)\n",
        "        if metrics['sharpe_ratio'] > best_sharpe:\n",
        "            best_sharpe = metrics['sharpe_ratio']\n",
        "            best_params[ticker] = period\n",
        "            best_metrics[ticker] = metrics\n",
        "            best_portfolios[ticker] = portfolio_value\n",
        "            best_trades[ticker] = trades\n",
        "\n",
        "# Display results\n",
        "print(\"Best Parameters for Each Stock:\")\n",
        "print(best_params)\n",
        "\n",
        "print(\"\\nBest Performance Metrics:\")\n",
        "print(best_metrics)\n"
      ],
      "metadata": {
        "colab": {
          "base_uri": "https://localhost:8080/"
        },
        "id": "hBHfzogFNaP0",
        "outputId": "f16e1200-ae90-4d11-bfe0-6643bac5e517"
      },
      "execution_count": 46,
      "outputs": [
        {
          "output_type": "stream",
          "name": "stderr",
          "text": [
            "[*********************100%***********************]  1 of 1 completed\n",
            "[*********************100%***********************]  1 of 1 completed\n",
            "[*********************100%***********************]  1 of 1 completed\n",
            "[*********************100%***********************]  1 of 1 completed\n",
            "[*********************100%***********************]  1 of 1 completed\n",
            "[*********************100%***********************]  1 of 1 completed\n",
            "[*********************100%***********************]  1 of 1 completed\n"
          ]
        },
        {
          "output_type": "stream",
          "name": "stdout",
          "text": [
            "Best Parameters for Each Stock:\n",
            "{'MSFT': 35, 'AAPL': 10, 'NVDA': 50, 'AMZN': 30, 'GOOG': 30, 'META': 40, 'TSLA': 10}\n",
            "\n",
            "Best Performance Metrics:\n",
            "{'MSFT': {'total_return': 3.338484093475342, 'annualized_return': 0.14294030244116218, 'annualized_volatility': 0.18619106172730626, 'sharpe_ratio': 0.0027929603189276796, 'sortino_ratio': 0.003084233356597845, 'max_drawdown': -0.37996173945914885, 'calmar_ratio': 0.37619656822454944}, 'AAPL': {'total_return': 4.786296056079864, 'annualized_return': 0.17330064058699834, 'annualized_volatility': 0.1655652824790898, 'sharpe_ratio': 0.0036828311747373415, 'sortino_ratio': 0.003661577184828153, 'max_drawdown': -0.25382595775956635, 'calmar_ratio': 0.6827538133477875}, 'NVDA': {'total_return': 24.874525656989217, 'annualized_return': 0.3447097579376015, 'annualized_volatility': 0.3456964657953827, 'sharpe_ratio': 0.0038444338627598054, 'sortino_ratio': 0.005115875051469757, 'max_drawdown': -0.5203153877388021, 'calmar_ratio': 0.6625015635913607}, 'AMZN': {'total_return': 6.480372671127319, 'annualized_return': 0.20105356163050936, 'annualized_volatility': 0.2317761376853497, 'sharpe_ratio': 0.0032526967651057693, 'sortino_ratio': 0.003941365996997525, 'max_drawdown': -0.29051949257161136, 'calmar_ratio': 0.6920484400231796}, 'GOOG': {'total_return': 2.5769695301055906, 'annualized_return': 0.1230323933697881, 'annualized_volatility': 0.1790077188363906, 'sharpe_ratio': 0.002483208035626182, 'sortino_ratio': 0.0026919670957762593, 'max_drawdown': -0.20974413851812632, 'calmar_ratio': 0.5865832258247137}, 'META': {'total_return': 10.075713502120971, 'annualized_return': 0.24474412089972142, 'annualized_volatility': 0.2619245737180109, 'sharpe_ratio': 0.0035223526822339736, 'sortino_ratio': 0.004282602712193437, 'max_drawdown': -0.24060703050405702, 'calmar_ratio': 1.017194386992755}, 'TSLA': {'total_return': 38.01659299211502, 'annualized_return': 0.3959442560622104, 'annualized_volatility': 0.39112465278573844, 'sharpe_ratio': 0.0039539144183149445, 'sortino_ratio': 0.004116877328442575, 'max_drawdown': -0.5646956327847035, 'calmar_ratio': 0.7011640130979525}}\n"
          ]
        }
      ]
    }
  ]
}